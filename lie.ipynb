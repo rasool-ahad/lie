{
 "cells": [
  {
   "cell_type": "markdown",
   "id": "9f537d4f-c550-4334-9a11-91107d733e04",
   "metadata": {},
   "source": [
    "## lie or no lie?"
   ]
  },
  {
   "cell_type": "code",
   "execution_count": 5,
   "id": "16307533-22e5-4167-9f40-c96d366f3e38",
   "metadata": {},
   "outputs": [],
   "source": [
    "import requests\n",
    "from bs4 import BeautifulSoup as bs \n",
    "import time\n",
    "import pandas as pd\n",
    "from datetime import datetime\n",
    "from datetime import date"
   ]
  },
  {
   "cell_type": "markdown",
   "id": "2bd0445c-4330-46bf-a593-fe30b87c0926",
   "metadata": {},
   "source": [
    "duration = collect time duration in hour for example if you want collect data in 1 hour DURATION is equal to 1"
   ]
  },
  {
   "cell_type": "code",
   "execution_count": 6,
   "id": "07025508-8d91-4abe-b287-bae00ba2c4fb",
   "metadata": {},
   "outputs": [],
   "source": [
    "DURATION = 1"
   ]
  },
  {
   "cell_type": "code",
   "execution_count": null,
   "id": "18349f98-b355-4b5e-a677-327139a76761",
   "metadata": {},
   "outputs": [
    {
     "name": "stdout",
     "output_type": "stream",
     "text": [
      "6331839/"
     ]
    }
   ],
   "source": [
    "data = pd.DataFrame({\"counts\":[], \"date\":[],\"time\":[]})\n",
    "_ = 0 \n",
    "while _ == DURATION*60*6:\n",
    "    content = requests.get(\"https://alaqsastorm.com/aqsa/GetCount.php\")\n",
    "    count = int(str(content.content).replace(\"b'\", \"\")[:-4])\n",
    "    now = datetime.now().strftime(\"%H:%M:%S\")\n",
    "    date = date.today()\n",
    "    print(count,end=\"/\")\n",
    "    data.loc[len(data)] = {\"counts\":count, \"date\":date, \"time\":now}\n",
    "    time.sleep(10)\n",
    "    _+=1\n"
   ]
  },
  {
   "cell_type": "code",
   "execution_count": null,
   "id": "dab6726a-3665-4487-95e7-12aee0425c21",
   "metadata": {},
   "outputs": [],
   "source": [
    "data.head()"
   ]
  },
  {
   "cell_type": "markdown",
   "id": "40e36742-1bd8-4c5d-a6b2-95bdcd2a8247",
   "metadata": {},
   "source": [
    "> **note:** dont forget to save dataframe(data) after run the script"
   ]
  }
 ],
 "metadata": {
  "kernelspec": {
   "display_name": "Python 3 (ipykernel)",
   "language": "python",
   "name": "python3"
  },
  "language_info": {
   "codemirror_mode": {
    "name": "ipython",
    "version": 3
   },
   "file_extension": ".py",
   "mimetype": "text/x-python",
   "name": "python",
   "nbconvert_exporter": "python",
   "pygments_lexer": "ipython3",
   "version": "3.10.9"
  }
 },
 "nbformat": 4,
 "nbformat_minor": 5
}
